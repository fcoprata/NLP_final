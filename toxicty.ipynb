{
 "cells": [
  {
   "cell_type": "code",
   "execution_count": 2,
   "metadata": {},
   "outputs": [
    {
     "name": "stderr",
     "output_type": "stream",
     "text": [
      "[nltk_data] Downloading package words to\n",
      "[nltk_data]     C:\\Users\\francisco.neto\\AppData\\Roaming\\nltk_data...\n",
      "[nltk_data]   Package words is already up-to-date!\n",
      "[nltk_data] Downloading package stopwords to\n",
      "[nltk_data]     C:\\Users\\francisco.neto\\AppData\\Roaming\\nltk_data...\n",
      "[nltk_data]   Package stopwords is already up-to-date!\n",
      "[nltk_data] Downloading package punkt to\n",
      "[nltk_data]     C:\\Users\\francisco.neto\\AppData\\Roaming\\nltk_data...\n",
      "[nltk_data]   Package punkt is already up-to-date!\n",
      "[nltk_data] Downloading package wordnet to\n",
      "[nltk_data]     C:\\Users\\francisco.neto\\AppData\\Roaming\\nltk_data...\n",
      "[nltk_data]   Package wordnet is already up-to-date!\n"
     ]
    },
    {
     "data": {
      "text/plain": [
       "True"
      ]
     },
     "execution_count": 2,
     "metadata": {},
     "output_type": "execute_result"
    }
   ],
   "source": [
    "import re\n",
    "import numpy as np\n",
    "import pandas as pd\n",
    "import nltk\n",
    "from nltk.stem import WordNetLemmatizer\n",
    "from nltk.corpus import stopwords, words\n",
    "from sklearn.metrics import accuracy_score\n",
    "from sklearn.pipeline import make_pipeline\n",
    "from sklearn.neural_network import MLPClassifier\n",
    "from sklearn.ensemble import RandomForestClassifier\n",
    "from sklearn.model_selection import RandomizedSearchCV\n",
    "from sklearn.svm import SVC\n",
    "from sklearn.tree import DecisionTreeClassifier\n",
    "from sklearn.neighbors import KNeighborsClassifier\n",
    "from sklearn.feature_extraction.text import CountVectorizer, TfidfVectorizer\n",
    "from numpy.random import randint\n",
    "import random\n",
    "import matplotlib.pyplot as plt\n",
    "import seaborn as sb\n",
    "nltk.download('words')\n",
    "nltk.download('stopwords')\n",
    "nltk.download('punkt')\n",
    "nltk.download('wordnet')"
   ]
  },
  {
   "cell_type": "code",
   "execution_count": 3,
   "metadata": {},
   "outputs": [],
   "source": [
    "train_data = pd.read_csv('src/train_binary_small.csv')\n",
    "test_data = pd.read_csv('src/test_binary_small.csv')"
   ]
  },
  {
   "cell_type": "code",
   "execution_count": 4,
   "metadata": {},
   "outputs": [],
   "source": [
    "X_train = train_data[\"comment_text\"]\n",
    "y_train = train_data['Toxic']"
   ]
  },
  {
   "cell_type": "code",
   "execution_count": 5,
   "metadata": {},
   "outputs": [],
   "source": [
    "X_test = test_data['comment_text']\n",
    "y_test = test_data['Toxic']"
   ]
  },
  {
   "cell_type": "code",
   "execution_count": 6,
   "metadata": {},
   "outputs": [
    {
     "data": {
      "text/plain": [
       "'== Arabs are committing genocide in Iraq, but no protests in Europe. == \\n\\n May Europe also burn in hell.'"
      ]
     },
     "execution_count": 6,
     "metadata": {},
     "output_type": "execute_result"
    }
   ],
   "source": [
    "X_test[0]"
   ]
  },
  {
   "cell_type": "code",
   "execution_count": 35,
   "metadata": {},
   "outputs": [],
   "source": [
    "substitute = {\n",
    "    \"< br />\":'',\n",
    "    '<br />':'',\n",
    "    \"'ll\":' will',\n",
    "    \"'s\":' is',\n",
    "    \"'re\":' are',\n",
    "    \"n't\":' not'\n",
    "}"
   ]
  },
  {
   "cell_type": "code",
   "execution_count": 36,
   "metadata": {},
   "outputs": [],
   "source": [
    "def preprocessing(X, dict_change):\n",
    "    new_x = []\n",
    "    \n",
    "    for i in X:\n",
    "        text_lower = i.lower()\n",
    "        \n",
    "        for key in dict_change:\n",
    "            if key in text_lower:\n",
    "                text_lower.replace(key, dict_change[key])\n",
    "        text_lower = re.sub(\"\\W\", ' ', text_lower)\n",
    "        text_lower = re.sub(\" +\", ' ', text_lower)\n",
    "        tokens = nltk.word_tokenize(text_lower)\n",
    "        tokens = [x for x in tokens if x not in stopwords.words('english')]  \n",
    "        new_x.append(' '.join(tokens))\n",
    "    return new_x\n",
    "\n",
    "def lemmatizer(X):\n",
    "    lemmatizer = WordNetLemmatizer()\n",
    "    new_x = []\n",
    "    for i in X:\n",
    "        tokens = nltk.word_tokenize(i)\n",
    "        for j in range(len(tokens)):\n",
    "            tokens[j] = lemmatizer.lemmatize(tokens[j])\n",
    "        new_x.append(' '.join(tokens))\n",
    "    return new_x\n"
   ]
  },
  {
   "cell_type": "code",
   "execution_count": 9,
   "metadata": {},
   "outputs": [],
   "source": [
    "X_train = preprocessing(X_train, substitute)\n",
    "X_test = preprocessing(X_test, substitute)"
   ]
  },
  {
   "cell_type": "code",
   "execution_count": 10,
   "metadata": {},
   "outputs": [
    {
     "data": {
      "text/plain": [
       "'edits good cunts like revert good edits stupid understand write well revert edits decided bear playground grudge problem maybe one day realise damage noble project 201 215 187 159'"
      ]
     },
     "execution_count": 10,
     "metadata": {},
     "output_type": "execute_result"
    }
   ],
   "source": [
    "X_train[0]"
   ]
  },
  {
   "cell_type": "code",
   "execution_count": 11,
   "metadata": {},
   "outputs": [],
   "source": [
    "X_train = lemmatizer(X_train)\n",
    "X_test = lemmatizer(X_test)"
   ]
  },
  {
   "cell_type": "code",
   "execution_count": 12,
   "metadata": {},
   "outputs": [
    {
     "data": {
      "text/plain": [
       "'edits good cunt like revert good edits stupid understand write well revert edits decided bear playground grudge problem maybe one day realise damage noble project 201 215 187 159'"
      ]
     },
     "execution_count": 12,
     "metadata": {},
     "output_type": "execute_result"
    }
   ],
   "source": [
    "X_train[0]"
   ]
  },
  {
   "cell_type": "code",
   "execution_count": 6,
   "metadata": {},
   "outputs": [],
   "source": [
    "def training(X_train, y_train,X_test,y_test, method, models, random_state):\n",
    "    df = {\n",
    "        'Model': [],\n",
    "        'Accuracy': []\n",
    "    }    \n",
    "    for model in models:\n",
    "        pipeline = make_pipeline(method, models[model])\n",
    "        clf = pipeline.fit(X_train, y_train)\n",
    "        df['Model'].append(model)\n",
    "        df['Accuracy'].append(accuracy_score(y_test, clf.predict(X_test)))\n",
    "\n",
    "    return pd.DataFrame(df)"
   ]
  },
  {
   "cell_type": "code",
   "execution_count": 7,
   "metadata": {},
   "outputs": [],
   "source": [
    "def optimized_training(X_train, y_train,X_test,y_test,method, models, params,random_state, n_iter):\n",
    "    df = {\n",
    "        'Model':[],\n",
    "        'Params': [],\n",
    "        'Accuracy': [],\n",
    "    }\n",
    "    transformer = method.fit(X_train)\n",
    "    X_train = transformer.transform(X_train)\n",
    "    X_test= transformer.transform(X_test)\n",
    "    for model in models:\n",
    "        clf = RandomizedSearchCV(models[model], params[model], n_iter=n_iter, n_jobs=-1)\n",
    "        clf.fit(X_train, y_train)\n",
    "        predict = clf.predict(X_test)\n",
    "        df['Model'].append(model)\n",
    "        df['Params'].append(clf.best_estimator_)\n",
    "        df['Accuracy'].append(accuracy_score(y_test, predict))\n",
    "    return pd.DataFrame(df)"
   ]
  },
  {
   "cell_type": "code",
   "execution_count": 15,
   "metadata": {},
   "outputs": [],
   "source": [
    "models = {\n",
    "    'MLP 1layer': MLPClassifier(max_iter=4000),\n",
    "    'MLP 2layer': MLPClassifier(max_iter=4000),\n",
    "    'SVC Linear': SVC(kernel='linear'),\n",
    "    'SVC Poly': SVC(kernel='poly'),\n",
    "    'KNN': KNeighborsClassifier(),\n",
    "    'Random Forest': RandomForestClassifier(),\n",
    "    'Decision tree': DecisionTreeClassifier(),\n",
    "}"
   ]
  },
  {
   "cell_type": "code",
   "execution_count": 16,
   "metadata": {},
   "outputs": [],
   "source": [
    "dataframe = pd.DataFrame()\n",
    "methods = [CountVectorizer(), TfidfVectorizer()]\n",
    "for i in methods:\n",
    "        dataframe_aux = training(X_train, y_train,X_test,y_test, i, models, 42)\n",
    "        dataframe_aux['Method'] = f'{i}'\n",
    "        dataframe = pd.concat([dataframe, dataframe_aux], ignore_index=True)"
   ]
  },
  {
   "cell_type": "code",
   "execution_count": 17,
   "metadata": {},
   "outputs": [
    {
     "data": {
      "image/png": "[encoded data removed]",
      "text/plain": [
       "<Figure size 470.75x360 with 1 Axes>"
      ]
     },
     "metadata": {
      "needs_background": "light"
     },
     "output_type": "display_data"
    }
   ],
   "source": [
    "sb.catplot(data=dataframe, y='Accuracy', x='Method', hue='Model', kind='bar')\n",
    "plt.ylim(0.4);"
   ]
  },
  {
   "cell_type": "code",
   "execution_count": 18,
   "metadata": {},
   "outputs": [],
   "source": [
    "models = {\n",
    "    'MLP 1layer': MLPClassifier(max_iter=4000),\n",
    "    'MLP 2layer': MLPClassifier(max_iter=4000),\n",
    "    'SVC Linear': SVC(kernel='linear')\n",
    "}"
   ]
  },
  {
   "cell_type": "code",
   "execution_count": 19,
   "metadata": {},
   "outputs": [],
   "source": [
    "C = [2 ** i for i in range(-5, 16,2)]\n",
    "gamma = [2 ** i for i in range(-15, 4,2)]"
   ]
  },
  {
   "cell_type": "code",
   "execution_count": 20,
   "metadata": {},
   "outputs": [],
   "source": [
    "gamma = random.choices(gamma, k=3)\n",
    "gamma.append('scale')\n",
    "gamma.append('auto')"
   ]
  },
  {
   "cell_type": "code",
   "execution_count": 21,
   "metadata": {},
   "outputs": [],
   "source": [
    "C = random.choices(C, k=3)"
   ]
  },
  {
   "cell_type": "code",
   "execution_count": 22,
   "metadata": {},
   "outputs": [],
   "source": [
    "params = {\n",
    "    'SVC Linear': {'gamma':gamma, 'C':C },\n",
    "    'MLP 1layer': {'hidden_layer_sizes':[(x, ) for x in range(2,1000)]},\n",
    "    'MLP 2layer': {'hidden_layer_sizes':[(randint(50,1000), randint(50,1000)) for x in range(2,1000)]},\n",
    "}"
   ]
  },
  {
   "cell_type": "code",
   "execution_count": 23,
   "metadata": {},
   "outputs": [],
   "source": [
    "dataframe = pd.DataFrame()\n",
    "methods = [CountVectorizer(), TfidfVectorizer()]\n",
    "pre_processing = ['Basic Preprocessing', 'Lematization', 'add removing no words']\n",
    "for i in methods:\n",
    "        dataframe_aux = optimized_training(X_train,y_train,X_test,y_test,i,models,params,42,15)\n",
    "        dataframe_aux['Method'] = f'{i}'\n",
    "        dataframe = pd.concat([dataframe, dataframe_aux], ignore_index=True)"
   ]
  },
  {
   "cell_type": "code",
   "execution_count": 27,
   "metadata": {},
   "outputs": [
    {
     "data": {
      "text/html": [
       "<div>\n",
       "<style scoped>\n",
       "    .dataframe tbody tr th:only-of-type {\n",
       "        vertical-align: middle;\n",
       "    }\n",
       "\n",
       "    .dataframe tbody tr th {\n",
       "        vertical-align: top;\n",
       "    }\n",
       "\n",
       "    .dataframe thead th {\n",
       "        text-align: right;\n",
       "    }\n",
       "</style>\n",
       "<table border=\"1\" class=\"dataframe\">\n",
       "  <thead>\n",
       "    <tr style=\"text-align: right;\">\n",
       "      <th></th>\n",
       "      <th>Model</th>\n",
       "      <th>Params</th>\n",
       "      <th>Accuracy</th>\n",
       "      <th>Method</th>\n",
       "    </tr>\n",
       "  </thead>\n",
       "  <tbody>\n",
       "    <tr>\n",
       "      <th>0</th>\n",
       "      <td>MLP 1layer</td>\n",
       "      <td>MLPClassifier(hidden_layer_sizes=(508,), max_i...</td>\n",
       "      <td>0.797333</td>\n",
       "      <td>CountVectorizer()</td>\n",
       "    </tr>\n",
       "    <tr>\n",
       "      <th>1</th>\n",
       "      <td>MLP 2layer</td>\n",
       "      <td>MLPClassifier(hidden_layer_sizes=(309, 992), m...</td>\n",
       "      <td>0.813333</td>\n",
       "      <td>CountVectorizer()</td>\n",
       "    </tr>\n",
       "    <tr>\n",
       "      <th>2</th>\n",
       "      <td>SVC Linear</td>\n",
       "      <td>SVC(C=8, gamma=0.001953125, kernel='linear')</td>\n",
       "      <td>0.786667</td>\n",
       "      <td>CountVectorizer()</td>\n",
       "    </tr>\n",
       "    <tr>\n",
       "      <th>3</th>\n",
       "      <td>MLP 1layer</td>\n",
       "      <td>MLPClassifier(hidden_layer_sizes=(895,), max_i...</td>\n",
       "      <td>0.808000</td>\n",
       "      <td>TfidfVectorizer()</td>\n",
       "    </tr>\n",
       "    <tr>\n",
       "      <th>4</th>\n",
       "      <td>MLP 2layer</td>\n",
       "      <td>MLPClassifier(hidden_layer_sizes=(813, 503), m...</td>\n",
       "      <td>0.813333</td>\n",
       "      <td>TfidfVectorizer()</td>\n",
       "    </tr>\n",
       "    <tr>\n",
       "      <th>5</th>\n",
       "      <td>SVC Linear</td>\n",
       "      <td>SVC(C=8, gamma=0.001953125, kernel='linear')</td>\n",
       "      <td>0.801333</td>\n",
       "      <td>TfidfVectorizer()</td>\n",
       "    </tr>\n",
       "  </tbody>\n",
       "</table>\n",
       "</div>"
      ],
      "text/plain": [
       "        Model                                             Params  Accuracy  \\\n",
       "0  MLP 1layer  MLPClassifier(hidden_layer_sizes=(508,), max_i...  0.797333   \n",
       "1  MLP 2layer  MLPClassifier(hidden_layer_sizes=(309, 992), m...  0.813333   \n",
       "2  SVC Linear       SVC(C=8, gamma=0.001953125, kernel='linear')  0.786667   \n",
       "3  MLP 1layer  MLPClassifier(hidden_layer_sizes=(895,), max_i...  0.808000   \n",
       "4  MLP 2layer  MLPClassifier(hidden_layer_sizes=(813, 503), m...  0.813333   \n",
       "5  SVC Linear       SVC(C=8, gamma=0.001953125, kernel='linear')  0.801333   \n",
       "\n",
       "              Method  \n",
       "0  CountVectorizer()  \n",
       "1  CountVectorizer()  \n",
       "2  CountVectorizer()  \n",
       "3  TfidfVectorizer()  \n",
       "4  TfidfVectorizer()  \n",
       "5  TfidfVectorizer()  "
      ]
     },
     "execution_count": 27,
     "metadata": {},
     "output_type": "execute_result"
    }
   ],
   "source": [
    "dataframe"
   ]
  },
  {
   "cell_type": "code",
   "execution_count": null,
   "metadata": {},
   "outputs": [],
   "source": [
    "dataframe.to_csv('results',sep='\\t')"
   ]
  }
 ],
 "metadata": {
  "interpreter": {
   "hash": "28fed176da9af2ea6f007930910871573777e27f84472596c10e5707560e7b41"
  },
  "kernelspec": {
   "display_name": "Python 3.9.7 64-bit ('ai': conda)",
   "language": "python",
   "name": "python3"
  },
  "language_info": {
   "codemirror_mode": {
    "name": "ipython",
    "version": 3
   },
   "file_extension": ".py",
   "mimetype": "text/x-python",
   "name": "python",
   "nbconvert_exporter": "python",
   "pygments_lexer": "ipython3",
   "version": "3.9.7"
  },
  "orig_nbformat": 4
 },
 "nbformat": 4,
 "nbformat_minor": 2
}
